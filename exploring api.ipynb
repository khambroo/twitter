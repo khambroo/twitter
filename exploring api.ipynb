{
 "cells": [
  {
   "cell_type": "code",
   "execution_count": 391,
   "metadata": {
    "collapsed": false
   },
   "outputs": [],
   "source": [
    "import numpy as np\n",
    "import matplotlib.pyplot as plt\n",
    "import pandas as pd\n",
    "from pandas import DataFrame, Series\n",
    "import math\n",
    "import time\n",
    "import random\n",
    "import nltk\n",
    "import math\n",
    "import statsmodels.api as sm\n",
    "import datetime\n",
    "#nltk.download()\n",
    "#from nltk.stem.wordnet import WordNetLemmatizer as lmtzr\n",
    "from nltk.stem import SnowballStemmer\n",
    "\n",
    "#magic!\n",
    "%matplotlib inline\n",
    "\n",
    "\n",
    "#!/usr/bin/env python\n",
    "# -*- coding: utf-8 -*-\n",
    "\n",
    "import sys\n",
    "import csv\n",
    "\n",
    "#http://www.tweepy.org/\n",
    "import tweepy\n",
    "\n",
    "#Get your Twitter API credentials and enter them here\n",
    "consumer_key = \n",
    "consumer_secret = \n",
    "access_key = \n",
    "access_secret = \n",
    "\n",
    "auth = tweepy.OAuthHandler(consumer_key, consumer_secret)\n",
    "auth.set_access_token(access_key, access_secret)\n",
    "api = tweepy.API(auth)"
   ]
  },
  {
   "cell_type": "code",
   "execution_count": 405,
   "metadata": {
    "collapsed": false
   },
   "outputs": [],
   "source": [
    "#Test function to get more data\n",
    "screen_name = 'grahamclark'\n",
    "number_of_tweets=200\n",
    "newtweets = api.user_timeline(screen_name = screen_name,count = number_of_tweets,exclude_replies=True,include_rts=False)\n",
    "WOEID = 1\n",
    "#WOEID = Where on earth id\n",
    "#WOEID = 1 means global\n",
    "trends = api.trends_place(id = WOEID)"
   ]
  },
  {
   "cell_type": "code",
   "execution_count": 435,
   "metadata": {
    "collapsed": false
   },
   "outputs": [
    {
     "name": "stdout",
     "output_type": "stream",
     "text": [
      "True\n",
      "56\n"
     ]
    }
   ],
   "source": [
    "#More tweets\n",
    "#print newtweets[0].created_at\n",
    "#print newtweets[0].text\n",
    "#print newtweets[0]\n",
    "#trends[0]\n",
    "\n",
    "\n",
    "#>>> import datetime\n",
    "#>>> datetime.datetime.today()\n",
    "#datetime.datetime(2012, 3, 23, 23, 24, 55, 173504)\n",
    "#>>> datetime.datetime.today().weekday()"
   ]
  },
  {
   "cell_type": "code",
   "execution_count": null,
   "metadata": {
    "collapsed": true
   },
   "outputs": [],
   "source": [
    "#create dictionary of tweet information:\n",
    "tweets_dict = [{'screen_name':tweet.author.screen_name.encode(\"utf-8\"), 'id':tweet.id,  'favorite_count':tweet.favorite_count, \n",
    "                    'retweet_count':tweet.retweet_count, 'created_at':tweet.created_at, \n",
    "                    'text':tweet.text.encode(\"utf-8\"),'followers_count':tweet.author.followers_count\n",
    "                } for tweet in newtweets]"
   ]
  },
  {
   "cell_type": "markdown",
   "metadata": {},
   "source": [
    "Plan to Get More Data:\n",
    "Age of tweet                      \n",
    "Day of week of tweet\n",
    "Weekend or Weekday\n",
    "Length of tweet\n",
    "Is the tweet @ someone? \n",
    "\n",
    "Who is the tweet @?\n",
    "Is tweet at one of the followers?\n",
    "\n",
    "Tweet includes a trending topic?\n",
    "\n",
    "Get tweets over time. Many tweets.\n",
    "\n",
    "\n"
   ]
  },
  {
   "cell_type": "code",
   "execution_count": 23,
   "metadata": {
    "collapsed": false
   },
   "outputs": [],
   "source": [
    "#Define Methods\n",
    "\n",
    "\n",
    "#Get all available tweets from user with screen_name = username\n",
    "#Assumes user's tweets are not protected\n",
    "#Makes up to 16 requests to api.user_timeline()\n",
    "#Returns a dataframe\n",
    "def get_tweets(username):\n",
    "\n",
    "    #http://tweepy.readthedocs.org/en/v3.1.0/getting_started.html#api\n",
    "    auth = tweepy.OAuthHandler(consumer_key, consumer_secret)\n",
    "    auth.set_access_token(access_key, access_secret)\n",
    "    api = tweepy.API(auth)\n",
    "\n",
    "    #set count to however many tweets you want; twitter only allows 200 at once\n",
    "    number_of_tweets = 200\n",
    "    \n",
    "    #get tweets\n",
    "    newtweets = api.user_timeline(screen_name = username,count = number_of_tweets,exclude_replies=True,include_rts=False)\n",
    "    \n",
    "    #create dictionary of tweet information:\n",
    "    tweets_dict = [{'screen_name':tweet.author.screen_name.encode(\"utf-8\"), 'id':tweet.id,  'favorite_count':tweet.favorite_count, \n",
    "                    'retweet_count':tweet.retweet_count, 'created_at':tweet.created_at, \n",
    "                    'text':tweet.text.encode(\"utf-8\"),'followers_count':tweet.author.followers_count\n",
    "                   } for tweet in newtweets]\n",
    "    \n",
    "    while len(newtweets) > 0:\n",
    "        oldest = newtweets[len(newtweets)-1].id  #id of oldest tweet so far\n",
    "        newtweets = api.user_timeline(screen_name = username,count = number_of_tweets,exclude_replies=True,include_rts=False, max_id = oldest - 1)\n",
    "        tweets_dict.extend([{'screen_name':tweet.author.screen_name.encode(\"utf-8\"), 'id':tweet.id,  'favorite_count':tweet.favorite_count, \n",
    "                    'retweet_count':tweet.retweet_count, 'created_at':tweet.created_at, \n",
    "                    'text':tweet.text.encode(\"utf-8\"),'followers_count':tweet.author.followers_count\n",
    "                            } for tweet in newtweets])\n",
    "\n",
    "    return pd.DataFrame(tweets_dict)\n",
    "\n",
    "\n",
    "#Get all available tweets from user with given user_id \n",
    "#Assumes user's tweets are not protected\n",
    "#Makes up to 16 requests to api.user_timeline()\n",
    "#Returns a dataframe\n",
    "def get_tweets_by_user_id(user_id):\n",
    "\n",
    "    #http://tweepy.readthedocs.org/en/v3.1.0/getting_started.html#api\n",
    "    auth = tweepy.OAuthHandler(consumer_key, consumer_secret)\n",
    "    auth.set_access_token(access_key, access_secret)\n",
    "    api = tweepy.API(auth)\n",
    "\n",
    "    #set count to however many tweets you want; twitter only allows 200 at once\n",
    "    number_of_tweets = 200\n",
    "    \n",
    "    #get tweets\n",
    "    newtweets = api.user_timeline(user_id=user_id,count = number_of_tweets,exclude_replies=True,include_rts=False)\n",
    "    \n",
    "    #create dictionary of tweet information:\n",
    "    tweets_dict = [{'screen_name':tweet.author.screen_name.encode(\"utf-8\"), 'id':tweet.id,  'favorite_count':tweet.favorite_count, \n",
    "                    'retweet_count':tweet.retweet_count, 'created_at':tweet.created_at, \n",
    "                    'text':tweet.text.encode(\"utf-8\"),'followers_count':tweet.author.followers_count\n",
    "                   } for tweet in newtweets]\n",
    "    \n",
    "    \n",
    "    #Note: If a user makes 200 replies or retweets in a row, newtweets will be empty even if there are more tweets. Unlikely.\n",
    "    while len(newtweets) > 0:\n",
    "        oldest = newtweets[len(newtweets)-1].id  #id of oldest tweet so far\n",
    "        newtweets = api.user_timeline(user_id=user_id,count = number_of_tweets,exclude_replies=True,include_rts=False, max_id = oldest - 1)\n",
    "        tweets_dict.extend([{'screen_name':tweet.author.screen_name.encode(\"utf-8\"), 'id':tweet.id,  'favorite_count':tweet.favorite_count, \n",
    "                    'retweet_count':tweet.retweet_count, 'created_at':tweet.created_at, \n",
    "                    'text':tweet.text.encode(\"utf-8\"),'followers_count':tweet.author.followers_count\n",
    "                            } for tweet in newtweets])\n",
    "        \n",
    "\n",
    "    return pd.DataFrame(tweets_dict)\n",
    "        \n",
    "        \n",
    "#Superfriend of user =  follower of user who is also followed by (i.e., friend of) user\n",
    "#Get all superfriends of user with screen_name = username\n",
    "#Assumes user's tweets are not protected\n",
    "#Exceeds rate limit if user has many (>180) friends\n",
    "#Returns list of user_ids\n",
    "def get_superfriends(username):\n",
    "    #http://tweepy.readthedocs.org/en/v3.1.0/getting_started.html#api\n",
    "    auth = tweepy.OAuthHandler(consumer_key, consumer_secret)\n",
    "    auth.set_access_token(access_key, access_secret)\n",
    "    api = tweepy.API(auth)\n",
    "    \n",
    "    friends = api.friends_ids(screen_name = username) #list of ids being followed by username\n",
    "    \n",
    "    #user_a='HillaryClinton'\n",
    "    #user_b='khamdev'\n",
    "    #relationship = api.show_friendship(source_screen_name=user_a,target_screen_name=user_b)\n",
    "\n",
    "    #print relationship[0].followed_by   #source is followed by target\n",
    "    #print relationship[0].following     #source is following source\n",
    "\n",
    "    #print relationship[1].followed_by   #target is followed by source\n",
    "    #print relationship[1].following     #target is following source\n",
    "\n",
    "    superfriends = [] #list of ids that are both followed by and following username\n",
    "    for friend in friends:\n",
    "        if api.show_friendship(source_screen_name=username,target_id=friend)[0].followed_by:\n",
    "            superfriends.append(friend)\n",
    "            \n",
    "    return superfriends\n",
    "\n",
    "#Get n random followers of user, out of the 5000 most recent followers. \n",
    "#If user has less than n followers, then get all followers????\n",
    "#Return list of user_ids\n",
    "def get_random_followers(username,n):\n",
    "    #http://tweepy.readthedocs.org/en/v3.1.0/getting_started.html#api\n",
    "    auth = tweepy.OAuthHandler(consumer_key, consumer_secret)\n",
    "    auth.set_access_token(access_key, access_secret)\n",
    "    api = tweepy.API(auth)\n",
    "    return random.sample(api.friends_ids(screen_name = username),n)\n",
    "\n",
    "#input: string\n",
    "#output: list of stems\n",
    "def process_text(string):\n",
    "    tokens = nltk.word_tokenize(string.decode(\"utf-8\"))\n",
    "    ss=SnowballStemmer(\"english\")\n",
    "    n=len(tokens)\n",
    "    for i in range(0,n):\n",
    "        tokens[i] = ss.stem(tokens[i]).encode(\"utf-8\")\n",
    "    return tokens\n",
    "\n",
    "def whatisthis(s):\n",
    "    if isinstance(s, str):\n",
    "        print \"ordinary string\"\n",
    "    elif isinstance(s, unicode):\n",
    "        print \"unicode string\"\n",
    "    else:\n",
    "        print \"not a string\"\n",
    "\n",
    "#input: lst = list of strings, stem = string\n",
    "#output: number of times stem appears in lst\n",
    "def number_of_stem(lst,stem):\n",
    "    count = 0\n",
    "    for s in lst:\n",
    "        if s == stem:\n",
    "            count  = count + 1\n",
    "    return count\n",
    "    "
   ]
  },
  {
   "cell_type": "code",
   "execution_count": 24,
   "metadata": {
    "collapsed": false
   },
   "outputs": [],
   "source": [
    "#Build a dataframe of all retrievable tweets made by username and n random followers of username\n",
    "\n",
    "username = 'grahamclark'\n",
    "df = get_tweets(username)\n",
    "number_of_followers = 0\n",
    "random_followers = get_random_followers(username,number_of_followers)\n",
    "for follower in random_followers:\n",
    "    if not api.get_user(user_id=follower).protected:\n",
    "        #df = df.append(get_tweets_by_user_id(user_id=follower))\n",
    "        df = pd.concat([df,get_tweets_by_user_id(user_id=follower)],\n",
    "                       axis=0,ignore_index=True)"
   ]
  },
  {
   "cell_type": "code",
   "execution_count": 74,
   "metadata": {
    "collapsed": false
   },
   "outputs": [],
   "source": [
    "#For each tweet, process text into a list of stems\n",
    "#Count number of each stem to build stem frequency table\n",
    "ft = {}\n",
    "df['stem_list'] = np.repeat([''],len(df))\n",
    "for i in range(0,len(df)):\n",
    "    #print i\n",
    "    df.at[i,'stem_list'] = process_text(df.at[i,'text'])\n",
    "    for stem in df.at[i,'stem_list']:\n",
    "        if stem in ft:\n",
    "            ft[stem] = ft[stem] + 1\n",
    "        else:\n",
    "            ft[stem] = 1"
   ]
  },
  {
   "cell_type": "code",
   "execution_count": 116,
   "metadata": {
    "collapsed": false
   },
   "outputs": [],
   "source": [
    "#Build a dictionary of the most common stems in the captured tweets\n",
    "#Only include the stem if it #occurances > threshold\n",
    "\n",
    "threshold = 20\n",
    "ft_top = {k:v for (k,v) in ft.items() if v > threshold}"
   ]
  },
  {
   "cell_type": "code",
   "execution_count": 117,
   "metadata": {
    "collapsed": false
   },
   "outputs": [],
   "source": [
    "#Add new covariates\n",
    "\n",
    "#df.at[i,'prop stem'] = proportion of stems in tweet i equal to 'stem'\n",
    "for stem in ft_top:\n",
    "    s='prop ' + stem\n",
    "    df[s] = np.repeat(0.0,len(df))\n",
    "    for i in range(0,(len(df))):\n",
    "        df.at[i,s] = (number_of_stem(df.at[i,'stem_list'],stem)+0.0)/len(df.at[i,'stem_list'])\n",
    "        \n",
    "#df['number_of_stems'] = number of stems/words in the tweet\n",
    "df['number_of_stems']=np.repeat(0.0,len(df))\n",
    "for i in range(0,len(df)):\n",
    "    df.at[i,'number_of_stems'] = len(df.at[i,'stem_list'])\n",
    "    \n",
    "#df['relative_length'] = number of characters / 140\n",
    "df['relative_length'] = np.repeat(0.0,len(df))\n",
    "for i in range(0,len(df)):\n",
    "    df.at[i,'relative_length'] = len(df.at[i,'text']) / 140\n",
    "    \n",
    "#df['proportion_of_capitals'] = number of uppercase / number of characters\n",
    "df['proportion_of_capitals'] = np.repeat(0.0,len(df))\n",
    "for i in range(0,len(df)):\n",
    "    df.at[i,'proportion_of_capitals'] = sum(1 for c in df.at[i,'text'] if c.isupper()) / len(df.at[i,'text'])\n",
    "\n",
    "#df['number_of_@'] normalized\n",
    "df['number_of_@'] = np.repeat(0.0,len(df))\n",
    "for i in range(0,len(df)):\n",
    "    df.at[i,'number_of_@'] = sum(1 for c in df.at[i,'text'] if c == '@') / len(df.at[i,'text'])\n",
    "\n",
    "#print \"!!\" in newtweets[20].text.encode('utf-8')\n",
    "#print len(newtweets[20].text.encode('utf-8'))\n",
    "    "
   ]
  },
  {
   "cell_type": "code",
   "execution_count": null,
   "metadata": {
    "collapsed": true
   },
   "outputs": [],
   "source": [
    "#Add new covariates\n",
    "#age_of_tweet in days, rounded down, normalized to be between 0 and 1\n",
    "df['age_of_tweet'] = np.repeat(0.0,len(df))\n",
    "max = 0\n",
    "for i in range(0,len(df)):\n",
    "    df.at[i,'age_of_tweet'] = (datetime.datetime.today()-df.at[i,'created_at']).days\n",
    "    if df.at[i,'age_of_tweet'] > max:\n",
    "        max = df.at[i,'age_of_tweet']\n",
    "for i in range(0,len(df)):\n",
    "    df.at[i,'age_of_tweet'] = (datetime.datetime.today()-df.at[i,'created_at']).days/max\n",
    "    \n",
    "\n",
    "#day of week tweet was made\n",
    "df['day_of_week']=np.repeat(0.0,len(df))\n",
    "for i in range(0,len(df)):\n",
    "    df.at[i,'day_of_week'] = (df.at[i,'created_at'].weekday()+0.0)/6\n",
    "    #day of the week as an integer, where Monday is 0 and Sunday is 6.\n",
    "    #then normalize to be between 0 and 1\n",
    "    \n",
    "#df['weekend_tweet'] = 1 if tweet made on saturday or sunday, 0 otherwise\n",
    "df['weekend_tweet']=np.repeat(0.0,len(df))\n",
    "for i in range(0,len(df)):\n",
    "    if df.at[i,'created_at'].weekday() >= 5:\n",
    "        df.at[i,'weekend_tweet'] = 1"
   ]
  },
  {
   "cell_type": "code",
   "execution_count": 118,
   "metadata": {
    "collapsed": false
   },
   "outputs": [],
   "source": [
    "#Add new covariates\n",
    "#df.at[i,'likes_per_follower'] = proportion of followers that like tweet i\n",
    "df['likes_per_follower'] = np.repeat(0.0,len(df))\n",
    "for i in range(0,len(df)):\n",
    "    df.at[i,'likes_per_follower'] = (df.at[i,'favorite_count']+0.0)/df.at[i,'followers_count']"
   ]
  },
  {
   "cell_type": "code",
   "execution_count": 281,
   "metadata": {
    "collapsed": false
   },
   "outputs": [],
   "source": [
    "#target variable\n",
    "#target =  1 if likes per follower greater than average\n",
    "#target =  0 if likes per follower less than average\n",
    "df['target'] = np.repeat(0.0,len(df))\n",
    "for i in range(0,len(df)):\n",
    "    lpf = df.at[i,'likes_per_follower']\n",
    "    avglpf = df['likes_per_follower'].mean()\n",
    "    df.at[i,'target'] = math.ceil( ( math.floor( lpf / avglpf )+0.0) / 1000)\n",
    "\n",
    "\n",
    "### p = 'likes_per_follower' + 0.5\n",
    "### target = logit(p) = log(p/(1-p))\n",
    "#df['target'] = np.repeat(0.0,len(df))\n",
    "#for i in range(0,len(df)):\n",
    " #   df.at[i,'target'] = math.log((df.at[i,'likes_per_follower']+0.5)/(1-df.at[i,'likes_per_follower']-0.5))"
   ]
  },
  {
   "cell_type": "markdown",
   "metadata": {
    "collapsed": false
   },
   "source": [
    "variables checklist:\n",
    "target = number of likes per follower = probability that a follower will like <3\n",
    "number of words (or stems) <3\n",
    "For each stem: proportion (or number) of stems in text equal to that stem <3\n",
    "Go through all the tweets gathered, count the different stems  <3"
   ]
  },
  {
   "cell_type": "markdown",
   "metadata": {},
   "source": [
    "## Model Fitting: Make Training and Testing Set"
   ]
  },
  {
   "cell_type": "code",
   "execution_count": 282,
   "metadata": {
    "collapsed": false
   },
   "outputs": [],
   "source": [
    "#Split data into training and testing set\n",
    "\n",
    "from sklearn import cross_validation as cv\n",
    "\n",
    "#list of covariates\n",
    "df['intercept']=np.repeat(1.0,len(df))\n",
    "lstcov = ['intercept']\n",
    "#lstcov=[]\n",
    "for stem in ft_top:\n",
    "    lstcov.append('prop ' + stem)\n",
    "X=df[lstcov]\n",
    "Y=df['target']\n",
    "\n",
    "X_train, X_test, Y_train, Y_test = cv.train_test_split(\n",
    "    X, Y, test_size=0.2, random_state=0)"
   ]
  },
  {
   "cell_type": "markdown",
   "metadata": {},
   "source": [
    "## Model Fitting: Logistic Regression - sklearn"
   ]
  },
  {
   "cell_type": "code",
   "execution_count": 283,
   "metadata": {
    "collapsed": false
   },
   "outputs": [
    {
     "name": "stdout",
     "output_type": "stream",
     "text": [
      "mean accuracy: 0.620071684588\n",
      "(1113L, 165L) (165L, 1L) (1113L, 1L)\n",
      "coefficients:\n",
      "       covariates  coefficients\n",
      "0       intercept     -0.660260\n",
      "1        prop all      0.418883\n",
      "2     prop comedi      0.070222\n",
      "3       prop just      0.300991\n",
      "4       prop show     -0.083295\n",
      "5       prop veri     -0.236700\n",
      "6         prop go      0.305853\n",
      "7       prop hate      0.263083\n",
      "8       prop onli      0.120690\n",
      "9          prop (      0.039026\n",
      "10     prop tweet     -0.490151\n",
      "11      prop movi     -0.268473\n",
      "12       prop had      0.107504\n",
      "13         prop ,     -0.035966\n",
      "14    prop should      0.064266\n",
      "15        prop to      0.584320\n",
      "16       prop has     -0.054965\n",
      "17      prop real     -0.059245\n",
      "18         prop @     -1.129563\n",
      "19      prop good     -0.116695\n",
      "20       prop get      0.049880\n",
      "21      prop stop      0.021161\n",
      "22     prop dandi     -0.262756\n",
      "23      prop know      0.518085\n",
      "24      prop they      0.061664\n",
      "25       prop new      0.102477\n",
      "26       prop not     -0.000333\n",
      "27       prop now     -0.046188\n",
      "28       prop day      0.199696\n",
      "29      prop like      0.131854\n",
      "..            ...           ...\n",
      "135     prop make      0.053930\n",
      "136     prop song     -0.302082\n",
      "137     prop when      0.103731\n",
      "138      prop how      0.308139\n",
      "139    prop anyon      0.018686\n",
      "140     prop take      0.001634\n",
      "141      prop bus      0.174280\n",
      "142        prop 9     -0.613719\n",
      "143      prop you      1.484595\n",
      "144     prop week     -0.149304\n",
      "145     prop play      0.114470\n",
      "146       prop ll      0.106444\n",
      "147       prop 's     -0.311958\n",
      "148    prop watch      0.303729\n",
      "149      prop who      0.391492\n",
      "150      prop whi     -0.228989\n",
      "151       prop 'm      0.511728\n",
      "152      prop man      0.219605\n",
      "153        prop a      1.520625\n",
      "154   prop havana     -0.842299\n",
      "155      prop off      0.200770\n",
      "156        prop '     -0.140437\n",
      "157        prop i      1.584850\n",
      "158  prop galleri     -0.871200\n",
      "159       prop no     -0.007736\n",
      "160     prop well     -0.068558\n",
      "161    prop think      0.250265\n",
      "162       prop so      0.003804\n",
      "163     prop time     -0.064063\n",
      "164      prop the      0.694614\n",
      "\n",
      "[165 rows x 2 columns]\n"
     ]
    }
   ],
   "source": [
    "#logistic regression\n",
    "#sklearn\n",
    "\n",
    "from sklearn.linear_model import LogisticRegression as LOGR\n",
    "logr = LOGR(fit_intercept=False,C=1.0)\n",
    "logr.fit( X_train, Y_train )\n",
    "pred=logr.predict(X_test)\n",
    "\n",
    "print \"mean accuracy:\", logr.score(X_test,Y_test)\n",
    "\n",
    "\n",
    "##convert to numpy matrix\n",
    "from scipy.special import logit\n",
    "Xmat = np.matrix(X_train.values)\n",
    "betahat = np.matrix(logr.coef_[0]).T\n",
    "ymat = np.matrix(logit(Y_train.values)).T\n",
    "print Xmat.shape, betahat.shape, ymat.shape\n",
    "NN = Xmat.shape[0]\n",
    "pp = Xmat.shape[1] - 1\n",
    "\n",
    "##predict probabilities\n",
    "from scipy.special import expit\n",
    "sklearn_logit_pred_prob= expit(Xmat*betahat)    #same as: logr.predict_proba(X_train)\n",
    "\n",
    "# cc = dataframe of coefficients with their parameters and p-value\n",
    "cc = DataFrame()\n",
    "cc['covariates'] = lstcov\n",
    "cc['coefficients'] = logr.coef_[0]\n",
    "\n",
    "print'coefficients:'\n",
    "print cc"
   ]
  },
  {
   "cell_type": "markdown",
   "metadata": {},
   "source": [
    "## Model Fitting: Logistic Regression - statsmodels.discrete.discrete_model.Logit"
   ]
  },
  {
   "cell_type": "code",
   "execution_count": 284,
   "metadata": {
    "collapsed": false,
    "scrolled": true
   },
   "outputs": [
    {
     "name": "stdout",
     "output_type": "stream",
     "text": [
      "Optimization terminated successfully.    (Exit mode 0)\n",
      "            Current function value: 0.623680520765\n",
      "            Iterations: 155\n",
      "            Function evaluations: 155\n",
      "            Gradient evaluations: 155\n"
     ]
    }
   ],
   "source": [
    "import statsmodels.api as sm\n",
    "from numpy.linalg import det, matrix_rank\n",
    "logit = sm.Logit(Y_train,X_train,missing='none')\n",
    "fitted_logit = logit.fit_regularized(alpha=1)"
   ]
  },
  {
   "cell_type": "code",
   "execution_count": 285,
   "metadata": {
    "collapsed": false
   },
   "outputs": [
    {
     "name": "stdout",
     "output_type": "stream",
     "text": [
      "                           Logit Regression Results                           \n",
      "==============================================================================\n",
      "Dep. Variable:                 target   No. Observations:                 1113\n",
      "Model:                          Logit   Df Residuals:                     1100\n",
      "Method:                           MLE   Df Model:                           12\n",
      "Date:                Tue, 19 Jul 2016   Pseudo R-squ.:                 0.06429\n",
      "Time:                        18:24:42   Log-Likelihood:                -665.46\n",
      "converged:                       True   LL-Null:                       -711.18\n",
      "                                        LLR p-value:                 2.588e-14\n",
      "=================================================================================\n",
      "                    coef    std err          z      P>|z|      [95.0% Conf. Int.]\n",
      "---------------------------------------------------------------------------------\n",
      "intercept        -0.6759      0.145     -4.656      0.000        -0.960    -0.391\n",
      "prop all               0        nan        nan        nan           nan       nan\n",
      "prop comedi            0        nan        nan        nan           nan       nan\n",
      "prop just              0        nan        nan        nan           nan       nan\n",
      "prop show              0        nan        nan        nan           nan       nan\n",
      "prop veri              0        nan        nan        nan           nan       nan\n",
      "prop go                0        nan        nan        nan           nan       nan\n",
      "prop hate              0        nan        nan        nan           nan       nan\n",
      "prop onli              0        nan        nan        nan           nan       nan\n",
      "prop (                 0        nan        nan        nan           nan       nan\n",
      "prop tweet             0        nan        nan        nan           nan       nan\n",
      "prop movi              0        nan        nan        nan           nan       nan\n",
      "prop had               0        nan        nan        nan           nan       nan\n",
      "prop ,                 0        nan        nan        nan           nan       nan\n",
      "prop should            0        nan        nan        nan           nan       nan\n",
      "prop to                0        nan        nan        nan           nan       nan\n",
      "prop has               0        nan        nan        nan           nan       nan\n",
      "prop real              0        nan        nan        nan           nan       nan\n",
      "prop @           -2.2168      2.904     -0.763      0.445        -7.909     3.476\n",
      "prop good              0        nan        nan        nan           nan       nan\n",
      "prop get               0        nan        nan        nan           nan       nan\n",
      "prop stop              0        nan        nan        nan           nan       nan\n",
      "prop dandi             0        nan        nan        nan           nan       nan\n",
      "prop know              0        nan        nan        nan           nan       nan\n",
      "prop they              0        nan        nan        nan           nan       nan\n",
      "prop new               0        nan        nan        nan           nan       nan\n",
      "prop not               0        nan        nan        nan           nan       nan\n",
      "prop now               0        nan        nan        nan           nan       nan\n",
      "prop day               0        nan        nan        nan           nan       nan\n",
      "prop like              0        nan        nan        nan           nan       nan\n",
      "prop did               0        nan        nan        nan           nan       nan\n",
      "prop bad               0        nan        nan        nan           nan       nan\n",
      "prop have              0        nan        nan        nan           nan       nan\n",
      "prop night             0        nan        nan        nan           nan       nan\n",
      "prop guy               0        nan        nan        nan           nan       nan\n",
      "prop where             0        nan        nan        nan           nan       nan\n",
      "prop right             0        nan        nan        nan           nan       nan\n",
      "prop laugh             0        nan        nan        nan           nan       nan\n",
      "prop twitter           0        nan        nan        nan           nan       nan\n",
      "prop some              0        nan        nan        nan           nan       nan\n",
      "prop see               0        nan        nan        nan           nan       nan\n",
      "prop are               0        nan        nan        nan           nan       nan\n",
      "prop year              0        nan        nan        nan           nan       nan\n",
      "prop http              0        nan        nan        nan           nan       nan\n",
      "prop best              0        nan        nan        nan           nan       nan\n",
      "prop out               0        nan        nan        nan           nan       nan\n",
      "prop will              0        nan        nan        nan           nan       nan\n",
      "prop what              0        nan        nan        nan           nan       nan\n",
      "prop for               0        nan        nan        nan           nan       nan\n",
      "prop away              0        nan        nan        nan           nan       nan\n",
      "prop reboot            0        nan        nan        nan           nan       nan\n",
      "prop your              0        nan        nan        nan           nan       nan\n",
      "prop re                0        nan        nan        nan           nan       nan\n",
      "prop got               0        nan        nan        nan           nan       nan\n",
      "prop ?           -0.2492      1.638     -0.152      0.879        -3.460     2.962\n",
      "prop be                0        nan        nan        nan           nan       nan\n",
      "prop we                0        nan        nan        nan           nan       nan\n",
      "prop do                0        nan        nan        nan           nan       nan\n",
      "prop never             0        nan        nan        nan           nan       nan\n",
      "prop here              0        nan        nan        nan           nan       nan\n",
      "prop someon            0        nan        nan        nan           nan       nan\n",
      "prop come              0        nan        nan        nan           nan       nan\n",
      "prop by                0        nan        nan        nan           nan       nan\n",
      "prop on                0        nan        nan        nan           nan       nan\n",
      "prop great             0        nan        nan        nan           nan       nan\n",
      "prop of                0        nan        nan        nan           nan       nan\n",
      "prop could             0        nan        nan        nan           nan       nan\n",
      "prop thing             0        nan        nan        nan           nan       nan\n",
      "prop star              0        nan        nan        nan           nan       nan\n",
      "prop or                0        nan        nan        nan           nan       nan\n",
      "prop ding              0        nan        nan        nan           nan       nan\n",
      "prop love              0        nan        nan        nan           nan       nan\n",
      "prop feel              0        nan        nan        nan           nan       nan\n",
      "prop win               0        nan        nan        nan           nan       nan\n",
      "prop one               0        nan        nan        nan           nan       nan\n",
      "prop dong              0        nan        nan        nan           nan       nan\n",
      "prop ring              0        nan        nan        nan           nan       nan\n",
      "prop tomorrow          0        nan        nan        nan           nan       nan\n",
      "prop from              0        nan        nan        nan           nan       nan\n",
      "prop would             0        nan        nan        nan           nan       nan\n",
      "prop there             0        nan        nan        nan           nan       nan\n",
      "prop hey               0        nan        nan        nan           nan       nan\n",
      "prop been              0        nan        nan        nan           nan       nan\n",
      "prop .                 0        nan        nan        nan           nan       nan\n",
      "prop their             0        nan        nan        nan           nan       nan\n",
      "prop live              0        nan        nan        nan           nan       nan\n",
      "prop 2                 0        nan        nan        nan           nan       nan\n",
      "prop call              0        nan        nan        nan           nan       nan\n",
      "prop https             0        nan        nan        nan           nan       nan\n",
      "prop :           -1.5689      1.452     -1.081      0.280        -4.415     1.277\n",
      "prop was               0        nan        nan        nan           nan       nan\n",
      "prop tell              0        nan        nan        nan           nan       nan\n",
      "prop friend            0        nan        nan        nan           nan       nan\n",
      "prop more              0        nan        nan        nan           nan       nan\n",
      "prop ``                0        nan        nan        nan           nan       nan\n",
      "prop that         0.3068      2.949      0.104      0.917        -5.474     6.088\n",
      "prop peopl             0        nan        nan        nan           nan       nan\n",
      "prop about             0        nan        nan        nan           nan       nan\n",
      "prop but               0        nan        nan        nan           nan       nan\n",
      "prop ...               0        nan        nan        nan           nan       nan\n",
      "prop with              0        nan        nan        nan           nan       nan\n",
      "prop than              0        nan        nan        nan           nan       nan\n",
      "prop he                0        nan        nan        nan           nan       nan\n",
      "prop me                0        nan        nan        nan           nan       nan\n",
      "prop tonight           0        nan        nan        nan           nan       nan\n",
      "prop look              0        nan        nan        nan           nan       nan\n",
      "prop this              0        nan        nan        nan           nan       nan\n",
      "prop work              0        nan        nan        nan           nan       nan\n",
      "prop up                0        nan        nan        nan           nan       nan\n",
      "prop war               0        nan        nan        nan           nan       nan\n",
      "prop n't               0        nan        nan        nan           nan       nan\n",
      "prop can               0        nan        nan        nan           nan       nan\n",
      "prop pm                0        nan        nan        nan           nan       nan\n",
      "prop my                0        nan        nan        nan           nan       nan\n",
      "prop everyon           0        nan        nan        nan           nan       nan\n",
      "prop and               0        nan        nan        nan           nan       nan\n",
      "prop ve                0        nan        nan        nan           nan       nan\n",
      "prop give              0        nan        nan        nan           nan       nan\n",
      "prop is          -0.3792      2.091     -0.181      0.856        -4.478     3.720\n",
      "prop am                0        nan        nan        nan           nan       nan\n",
      "prop it                0        nan        nan        nan           nan       nan\n",
      "prop an                0        nan        nan        nan           nan       nan\n",
      "prop ''                0        nan        nan        nan           nan       nan\n",
      "prop say               0        nan        nan        nan           nan       nan\n",
      "prop his               0        nan        nan        nan           nan       nan\n",
      "prop at          -9.5754      2.811     -3.406      0.001       -15.085    -4.065\n",
      "prop want              0        nan        nan        nan           nan       nan\n",
      "prop in                0        nan        nan        nan           nan       nan\n",
      "prop doe               0        nan        nan        nan           nan       nan\n",
      "prop as                0        nan        nan        nan           nan       nan\n",
      "prop if                0        nan        nan        nan           nan       nan\n",
      "prop !           -1.6709      1.516     -1.103      0.270        -4.641     1.299\n",
      "prop #           -1.4935      2.160     -0.691      0.489        -5.728     2.741\n",
      "prop )                 0        nan        nan        nan           nan       nan\n",
      "prop na                0        nan        nan        nan           nan       nan\n",
      "prop make              0        nan        nan        nan           nan       nan\n",
      "prop song              0        nan        nan        nan           nan       nan\n",
      "prop when              0        nan        nan        nan           nan       nan\n",
      "prop how               0        nan        nan        nan           nan       nan\n",
      "prop anyon             0        nan        nan        nan           nan       nan\n",
      "prop take              0        nan        nan        nan           nan       nan\n",
      "prop bus               0        nan        nan        nan           nan       nan\n",
      "prop 9                 0        nan        nan        nan           nan       nan\n",
      "prop you          4.5435      2.378      1.911      0.056        -0.117     9.204\n",
      "prop week              0        nan        nan        nan           nan       nan\n",
      "prop play              0        nan        nan        nan           nan       nan\n",
      "prop ll                0        nan        nan        nan           nan       nan\n",
      "prop 's                0        nan        nan        nan           nan       nan\n",
      "prop watch             0        nan        nan        nan           nan       nan\n",
      "prop who               0        nan        nan        nan           nan       nan\n",
      "prop whi               0        nan        nan        nan           nan       nan\n",
      "prop 'm                0        nan        nan        nan           nan       nan\n",
      "prop man               0        nan        nan        nan           nan       nan\n",
      "prop a            2.7286      1.717      1.589      0.112        -0.637     6.094\n",
      "prop havana            0        nan        nan        nan           nan       nan\n",
      "prop off               0        nan        nan        nan           nan       nan\n",
      "prop '                 0        nan        nan        nan           nan       nan\n",
      "prop i            3.1476      1.656      1.901      0.057        -0.098     6.394\n",
      "prop galleri           0        nan        nan        nan           nan       nan\n",
      "prop no                0        nan        nan        nan           nan       nan\n",
      "prop well              0        nan        nan        nan           nan       nan\n",
      "prop think             0        nan        nan        nan           nan       nan\n",
      "prop so                0        nan        nan        nan           nan       nan\n",
      "prop time              0        nan        nan        nan           nan       nan\n",
      "prop the          0.1434      1.577      0.091      0.928        -2.948     3.235\n",
      "=================================================================================\n"
     ]
    }
   ],
   "source": [
    "statsmodel_logit_pred_prob=fitted_logit.predict(X_train)\n",
    "#print fitted_logit.predict(X_test)\n",
    "print fitted_logit.summary()"
   ]
  },
  {
   "cell_type": "code",
   "execution_count": 286,
   "metadata": {
    "collapsed": false
   },
   "outputs": [
    {
     "data": {
      "text/plain": [
       "[<matplotlib.lines.Line2D at 0x137e3860>]"
      ]
     },
     "execution_count": 286,
     "metadata": {},
     "output_type": "execute_result"
    },
    {
     "data": {
      "image/png": "[encoded data removed]",
      "text/plain": [
       "<matplotlib.figure.Figure at 0x13059080>"
      ]
     },
     "metadata": {},
     "output_type": "display_data"
    }
   ],
   "source": [
    "plt.plot(statsmodel_logit_pred_prob,sklearn_logit_pred_prob,\"p\")"
   ]
  },
  {
   "cell_type": "markdown",
   "metadata": {},
   "source": [
    "## Model Fitting: Logistic Regression - statsmodels.GLM"
   ]
  },
  {
   "cell_type": "code",
   "execution_count": 287,
   "metadata": {
    "collapsed": false
   },
   "outputs": [
    {
     "name": "stdout",
     "output_type": "stream",
     "text": [
      "                 Generalized Linear Model Regression Results                  \n",
      "==============================================================================\n",
      "Dep. Variable:                 target   No. Observations:                 1113\n",
      "Model:                            GLM   Df Residuals:                      951\n",
      "Model Family:                Binomial   Df Model:                          161\n",
      "Link Function:                  logit   Scale:                             1.0\n",
      "Method:                          IRLS   Log-Likelihood:                -528.98\n",
      "Date:                Tue, 19 Jul 2016   Deviance:                       1058.0\n",
      "Time:                        18:24:45   Pearson chi2:                 1.09e+03\n",
      "No. Iterations:                    24                                         \n",
      "=================================================================================\n",
      "                    coef    std err          z      P>|z|      [95.0% Conf. Int.]\n",
      "---------------------------------------------------------------------------------\n",
      "intercept        -1.3519      0.523     -2.584      0.010        -2.377    -0.327\n",
      "prop all          5.3018      3.946      1.344      0.179        -2.432    13.035\n",
      "prop comedi       5.0809      8.880      0.572      0.567       -12.324    22.486\n",
      "prop just         7.4717      7.464      1.001      0.317        -7.157    22.100\n",
      "prop show        -2.0505      8.672     -0.236      0.813       -19.048    14.947\n",
      "prop veri       -14.5795     10.771     -1.354      0.176       -35.691     6.532\n",
      "prop go          13.9058      7.928      1.754      0.079        -1.633    29.444\n",
      "prop hate         8.8099     11.470      0.768      0.442       -13.672    31.292\n",
      "prop onli         9.9651      9.450      1.055      0.292        -8.556    28.486\n",
      "prop (            1.2337      4.490      0.275      0.784        -7.567    10.034\n",
      "prop tweet      -16.6314     11.979     -1.388      0.165       -40.110     6.847\n",
      "prop movi       -17.9799      9.061     -1.984      0.047       -35.739    -0.220\n",
      "prop had          0.1270      8.137      0.016      0.988       -15.821    16.075\n",
      "prop ,            1.8777      2.497      0.752      0.452        -3.017     6.772\n",
      "prop should       0.4406     11.781      0.037      0.970       -22.649    23.530\n",
      "prop to          -0.1004      2.864     -0.035      0.972        -5.715     5.514\n",
      "prop has         -3.8208      6.913     -0.553      0.580       -17.370     9.728\n",
      "prop real        -6.0458     10.534     -0.574      0.566       -26.693    14.601\n",
      "prop @          -13.3979      4.914     -2.726      0.006       -23.030    -3.766\n",
      "prop good         1.8402      6.141      0.300      0.764       -10.196    13.876\n",
      "prop get         -1.4427      6.276     -0.230      0.818       -13.743    10.858\n",
      "prop stop         5.0853     10.492      0.485      0.628       -15.479    25.649\n",
      "prop dandi       31.8099   2.12e+06    1.5e-05      1.000     -4.15e+06  4.15e+06\n",
      "prop know         5.6556      6.978      0.810      0.418        -8.022    19.333\n",
      "prop they        -4.6447      7.219     -0.643      0.520       -18.794     9.505\n",
      "prop new          1.3907      6.915      0.201      0.841       -12.162    14.944\n",
      "prop not         -3.2057      6.170     -0.520      0.603       -15.299     8.887\n",
      "prop now         -5.0856      7.724     -0.658      0.510       -20.225    10.054\n",
      "prop day          5.3671      7.216      0.744      0.457        -8.777    19.511\n",
      "prop like         0.2385      4.538      0.053      0.958        -8.655     9.132\n",
      "prop did        -10.0556      9.508     -1.058      0.290       -28.691     8.579\n",
      "prop bad         11.5642     13.054      0.886      0.376       -14.022    37.150\n",
      "prop have        -2.1391      6.276     -0.341      0.733       -14.439    10.161\n",
      "prop night        3.1775      8.163      0.389      0.697       -12.822    19.177\n",
      "prop guy          7.5880      5.925      1.281      0.200        -4.024    19.200\n",
      "prop where       22.2586     10.061      2.212      0.027         2.539    41.978\n",
      "prop right       -9.0556     10.845     -0.835      0.404       -30.311    12.200\n",
      "prop laugh       -3.1233     13.638     -0.229      0.819       -29.853    23.607\n",
      "prop twitter     -1.1655     11.553     -0.101      0.920       -23.809    21.478\n",
      "prop some         4.9695     10.539      0.472      0.637       -15.687    25.626\n",
      "prop see         -7.4348     10.716     -0.694      0.488       -28.438    13.568\n",
      "prop are         -0.0535      4.924     -0.011      0.991        -9.704     9.597\n",
      "prop year         5.0765      7.352      0.691      0.490        -9.333    19.486\n",
      "prop http         5.9430      6.090      0.976      0.329        -5.994    17.880\n",
      "prop best        -9.9280      8.831     -1.124      0.261       -27.237     7.381\n",
      "prop out          8.7070      5.249      1.659      0.097        -1.581    18.995\n",
      "prop will        11.3431      7.260      1.562      0.118        -2.886    25.572\n",
      "prop what         5.9670      5.442      1.097      0.273        -4.698    16.632\n",
      "prop for         -7.7994      4.085     -1.909      0.056       -15.806     0.207\n",
      "prop away       -30.9490     13.802     -2.242      0.025       -58.000    -3.898\n",
      "prop reboot      -3.2079      9.353     -0.343      0.732       -21.540    15.124\n",
      "prop your        -0.1221      6.603     -0.018      0.985       -13.065    12.820\n",
      "prop re          -6.0673      9.506     -0.638      0.523       -24.699    12.564\n",
      "prop got          8.8043      6.396      1.377      0.169        -3.731    21.339\n",
      "prop ?           -4.3614      3.093     -1.410      0.159       -10.423     1.701\n",
      "prop be           2.7615      4.327      0.638      0.523        -5.719    11.242\n",
      "prop we           6.3457      6.879      0.922      0.356        -7.138    19.829\n",
      "prop do          -4.8688      4.904     -0.993      0.321       -14.480     4.742\n",
      "prop never       -5.0885     11.091     -0.459      0.646       -26.826    16.649\n",
      "prop here       -11.4085      9.346     -1.221      0.222       -29.727     6.910\n",
      "prop someon      13.9752      8.979      1.556      0.120        -3.624    31.574\n",
      "prop come       -13.6558     11.176     -1.222      0.222       -35.561     8.250\n",
      "prop by           4.3531      8.013      0.543      0.587       -11.353    20.059\n",
      "prop on           0.1592      3.682      0.043      0.966        -7.058     7.376\n",
      "prop great        5.1524     10.118      0.509      0.611       -14.679    24.984\n",
      "prop of          -3.1462      3.071     -1.024      0.306        -9.166     2.873\n",
      "prop could        1.4745      8.000      0.184      0.854       -14.205    17.154\n",
      "prop thing       17.4501      8.238      2.118      0.034         1.305    33.595\n",
      "prop star        27.9531     16.354      1.709      0.087        -4.101    60.007\n",
      "prop or           0.7011      6.551      0.107      0.915       -12.138    13.540\n",
      "prop ding        31.8099   2.12e+06    1.5e-05      1.000     -4.15e+06  4.15e+06\n",
      "prop love       -26.7496     10.434     -2.564      0.010       -47.200    -6.300\n",
      "prop feel         1.9857      6.147      0.323      0.747       -10.063    14.034\n",
      "prop win         -3.4189     13.084     -0.261      0.794       -29.064    22.226\n",
      "prop one        -11.3325      6.545     -1.732      0.083       -24.160     1.495\n",
      "prop dong        31.8099   2.12e+06    1.5e-05      1.000     -4.15e+06  4.15e+06\n",
      "prop ring      -735.4835   6.26e+06     -0.000      1.000     -1.23e+07  1.23e+07\n",
      "prop tomorrow    -0.6743     21.120     -0.032      0.975       -42.068    40.720\n",
      "prop from        -9.7060      9.126     -1.064      0.288       -27.592     8.180\n",
      "prop would       -3.1136      6.474     -0.481      0.631       -15.802     9.575\n",
      "prop there       -6.5849      5.776     -1.140      0.254       -17.906     4.736\n",
      "prop hey          2.7993      3.522      0.795      0.427        -4.104     9.702\n",
      "prop been        18.4192     11.246      1.638      0.101        -3.623    40.462\n",
      "prop .           -0.7825      2.157     -0.363      0.717        -5.010     3.445\n",
      "prop their       -5.9451      9.919     -0.599      0.549       -25.387    13.497\n",
      "prop live       -27.4836     12.414     -2.214      0.027       -51.814    -3.153\n",
      "prop 2          -26.8927     13.658     -1.969      0.049       -53.661    -0.124\n",
      "prop call         3.7067      6.728      0.551      0.582        -9.480    16.893\n",
      "prop https        2.3796      5.665      0.420      0.674        -8.723    13.482\n",
      "prop :           -1.8567      5.176     -0.359      0.720       -12.001     8.287\n",
      "prop was         -3.4894      6.330     -0.551      0.581       -15.897     8.918\n",
      "prop tell        -9.2399     12.480     -0.740      0.459       -33.700    15.220\n",
      "prop friend     -16.5421     17.566     -0.942      0.346       -50.971    17.886\n",
      "prop more        -9.3189      9.188     -1.014      0.310       -27.327     8.689\n",
      "prop ``         328.7629   1.42e+06      0.000      1.000     -2.78e+06  2.78e+06\n",
      "prop that         9.0388      3.802      2.377      0.017         1.586    16.491\n",
      "prop peopl        5.2405      5.488      0.955      0.340        -5.516    15.997\n",
      "prop about       -2.8116      6.222     -0.452      0.651       -15.007     9.384\n",
      "prop but         -1.0077      7.886     -0.128      0.898       -16.464    14.449\n",
      "prop ...         -0.6153      4.331     -0.142      0.887        -9.105     7.874\n",
      "prop with         6.1235      5.093      1.202      0.229        -3.859    16.106\n",
      "prop than       -34.8236     12.155     -2.865      0.004       -58.647   -11.001\n",
      "prop he           5.7251      8.395      0.682      0.495       -10.729    22.179\n",
      "prop me           6.6760      3.984      1.676      0.094        -1.132    14.484\n",
      "prop tonight    -17.8322     12.080     -1.476      0.140       -41.508     5.843\n",
      "prop look        23.0881      7.341      3.145      0.002         8.699    37.477\n",
      "prop this        -6.3568      4.467     -1.423      0.155       -15.111     2.398\n",
      "prop work        15.8113      8.699      1.818      0.069        -1.238    32.860\n",
      "prop up           4.7826      7.012      0.682      0.495        -8.960    18.526\n",
      "prop war        -16.8793     15.908     -1.061      0.289       -48.059    14.301\n",
      "prop n't          1.9727      4.638      0.425      0.671        -7.118    11.063\n",
      "prop can          0.5048      6.886      0.073      0.942       -12.992    14.002\n",
      "prop pm         -21.6141     33.690     -0.642      0.521       -87.646    44.418\n",
      "prop my           5.2160      3.788      1.377      0.169        -2.209    12.641\n",
      "prop everyon     -6.0780      8.441     -0.720      0.471       -22.621    10.465\n",
      "prop and         10.0828      3.737      2.698      0.007         2.758    17.408\n",
      "prop ve           3.1848     10.072      0.316      0.752       -16.555    22.925\n",
      "prop give        35.7977     12.503      2.863      0.004        11.291    60.304\n",
      "prop is          -5.1490      3.091     -1.666      0.096       -11.207     0.909\n",
      "prop am          -9.1046      8.649     -1.053      0.292       -26.056     7.846\n",
      "prop it           3.7125      3.112      1.193      0.233        -2.386     9.811\n",
      "prop an          10.8731      6.764      1.607      0.108        -2.385    24.131\n",
      "prop ''        -321.6164   1.42e+06     -0.000      1.000     -2.78e+06  2.78e+06\n",
      "prop say         -3.4208      7.602     -0.450      0.653       -18.321    11.480\n",
      "prop his          4.6107      8.667      0.532      0.595       -12.377    21.598\n",
      "prop at          -9.2281      5.904     -1.563      0.118       -20.800     2.344\n",
      "prop want         7.6579      8.679      0.882      0.378        -9.352    24.668\n",
      "prop in           0.4308      3.532      0.122      0.903        -6.492     7.354\n",
      "prop doe         -3.4620      8.549     -0.405      0.686       -20.218    13.294\n",
      "prop as          -3.4572      6.177     -0.560      0.576       -15.563     8.649\n",
      "prop if           3.9505      5.569      0.709      0.478        -6.964    14.865\n",
      "prop !           -2.8232      2.347     -1.203      0.229        -7.424     1.777\n",
      "prop #           -7.0305      4.968     -1.415      0.157       -16.768     2.707\n",
      "prop )            1.2337      4.490      0.275      0.784        -7.567    10.034\n",
      "prop na           7.7451      8.630      0.897      0.369        -9.170    24.660\n",
      "prop make        -3.4076      7.569     -0.450      0.653       -18.242    11.427\n",
      "prop song       -19.2494     14.670     -1.312      0.189       -48.002     9.503\n",
      "prop when         7.4186      7.940      0.934      0.350        -8.143    22.980\n",
      "prop how          9.5082      7.067      1.346      0.178        -4.342    23.359\n",
      "prop anyon        2.4478      9.645      0.254      0.800       -16.455    21.351\n",
      "prop take         2.1134     10.028      0.211      0.833       -17.542    21.769\n",
      "prop bus          9.5310      9.757      0.977      0.329        -9.593    28.655\n",
      "prop 9           -8.4655     39.082     -0.217      0.829       -85.066    68.135\n",
      "prop you         12.5865      3.653      3.445      0.001         5.426    19.747\n",
      "prop week       -13.2771     17.507     -0.758      0.448       -47.591    21.037\n",
      "prop play        18.6732     11.267      1.657      0.097        -3.410    40.756\n",
      "prop ll           6.4592     10.546      0.612      0.540       -14.211    27.130\n",
      "prop 's          -2.7679      3.082     -0.898      0.369        -8.808     3.272\n",
      "prop watch       25.5087      8.535      2.989      0.003         8.781    42.237\n",
      "prop who          5.3489      4.805      1.113      0.266        -4.068    14.766\n",
      "prop whi         -6.3473      9.077     -0.699      0.484       -24.139    11.444\n",
      "prop 'm           5.3454      5.960      0.897      0.370        -6.335    17.026\n",
      "prop man          7.5566      6.446      1.172      0.241        -5.078    20.191\n",
      "prop a            9.4186      2.487      3.788      0.000         4.545    14.292\n",
      "prop havana     557.1120   2.81e+06      0.000      1.000     -5.51e+06  5.51e+06\n",
      "prop off         20.0244     12.593      1.590      0.112        -4.657    44.705\n",
      "prop '           -3.2187      7.297     -0.441      0.659       -17.521    11.084\n",
      "prop i            4.3180      2.686      1.608      0.108        -0.945     9.582\n",
      "prop galleri   -589.9003   2.81e+06     -0.000      1.000     -5.51e+06  5.51e+06\n",
      "prop no           4.3003      5.251      0.819      0.413        -5.991    14.592\n",
      "prop well        -6.0684     12.038     -0.504      0.614       -29.662    17.525\n",
      "prop think        6.6737      6.269      1.065      0.287        -5.614    18.961\n",
      "prop so           1.3477      7.301      0.185      0.854       -12.963    15.658\n",
      "prop time        -2.8689      6.620     -0.433      0.665       -15.845    10.107\n",
      "prop the          5.6903      2.279      2.497      0.013         1.224    10.156\n",
      "=================================================================================\n"
     ]
    }
   ],
   "source": [
    "\n",
    "glm_binom = sm.GLM(Y_train,X_train, family=sm.families.Binomial())\n",
    "fitted_glm_binom = glm_binom.fit()\n",
    "print(fitted_glm_binom.summary())\n",
    "statsmodel_glm_binom_pred_prob=fitted_glm_binom.predict(X_train)"
   ]
  },
  {
   "cell_type": "code",
   "execution_count": 288,
   "metadata": {
    "collapsed": false
   },
   "outputs": [
    {
     "data": {
      "text/plain": [
       "[<matplotlib.lines.Line2D at 0x1346c9b0>]"
      ]
     },
     "execution_count": 288,
     "metadata": {},
     "output_type": "execute_result"
    },
    {
     "data": {
      "image/png": "[encoded data removed]",
      "text/plain": [
       "<matplotlib.figure.Figure at 0x12c777b8>"
      ]
     },
     "metadata": {},
     "output_type": "display_data"
    }
   ],
   "source": [
    "plt.plot(statsmodel_glm_binom_pred_prob,sklearn_logit_pred_prob,\"p\")"
   ]
  },
  {
   "cell_type": "markdown",
   "metadata": {},
   "source": [
    "## Model Fitting: sklearn.ensemble.RandomForestClassifier"
   ]
  },
  {
   "cell_type": "code",
   "execution_count": 304,
   "metadata": {
    "collapsed": false
   },
   "outputs": [],
   "source": [
    "from sklearn.ensemble import RandomForestClassifier as RFC\n",
    "forest = RFC(n_estimators=1000, criterion='gini', max_depth=10, min_samples_split=2, \n",
    "             min_samples_leaf=1, min_weight_fraction_leaf=0.0, max_features='auto', \n",
    "             max_leaf_nodes=None, bootstrap=True, oob_score=False, n_jobs=1, random_state=None, \n",
    "             verbose=0, warm_start=False, class_weight=None)\n",
    "fitted_forest = forest.fit(X_train, Y_train, sample_weight=None)"
   ]
  },
  {
   "cell_type": "markdown",
   "metadata": {},
   "source": [
    "## Model Fitting: sklearn.ensemble.GradientBoostingClassifier"
   ]
  },
  {
   "cell_type": "code",
   "execution_count": 358,
   "metadata": {
    "collapsed": true
   },
   "outputs": [],
   "source": [
    "from sklearn.ensemble import GradientBoostingClassifier as GBC\n",
    "gboost = GBC(loss='deviance', learning_rate=0.01, n_estimators=2000, subsample=1.0, min_samples_split=2, \n",
    "             min_samples_leaf=1, min_weight_fraction_leaf=0.0, max_depth=20, init=None, random_state=None, \n",
    "             max_features=None, verbose=0, max_leaf_nodes=None, warm_start=False, presort='auto')\n",
    "fitted_gboost = gboost.fit(X_train, Y_train, sample_weight=None, monitor=None)"
   ]
  },
  {
   "cell_type": "markdown",
   "metadata": {},
   "source": [
    "## Model Fitting: sklearn.ensemble.ExtraTreesClassifier"
   ]
  },
  {
   "cell_type": "code",
   "execution_count": 387,
   "metadata": {
    "collapsed": false
   },
   "outputs": [],
   "source": [
    "from sklearn.ensemble import ExtraTreesClassifier\n",
    "xtree = ExtraTreesClassifier(n_estimators=2000, criterion='gini', max_depth=20, min_samples_split=2, min_samples_leaf=1, \n",
    "                             min_weight_fraction_leaf=0.0, max_features='auto', max_leaf_nodes=None, bootstrap=False, \n",
    "                             oob_score=False, n_jobs=1, random_state=None, verbose=0, warm_start=False, class_weight=None)\n",
    "fitted_xtree = xtree.fit(X_train, Y_train, sample_weight=None)"
   ]
  },
  {
   "cell_type": "code",
   "execution_count": null,
   "metadata": {
    "collapsed": true
   },
   "outputs": [],
   "source": []
  },
  {
   "cell_type": "code",
   "execution_count": null,
   "metadata": {
    "collapsed": true
   },
   "outputs": [],
   "source": []
  },
  {
   "cell_type": "markdown",
   "metadata": {},
   "source": [
    "## Model Evaluation"
   ]
  },
  {
   "cell_type": "code",
   "execution_count": 289,
   "metadata": {
    "collapsed": false
   },
   "outputs": [],
   "source": [
    "def labels(y):\n",
    "    for i in range(0,len(y)):\n",
    "        y[i]=round(y[i],0)\n",
    "    return y\n",
    "def mean_square_error(y,yhat):\n",
    "    #import statistics\n",
    "    n = y.shape[1]\n",
    "    return ((y-yhat) * (y-yhat).T)/n"
   ]
  },
  {
   "cell_type": "code",
   "execution_count": 388,
   "metadata": {
    "collapsed": false
   },
   "outputs": [
    {
     "name": "stdout",
     "output_type": "stream",
     "text": [
      "naive 0: [[ 0.37992832]]\n",
      "naive 1: [[ 0.62007168]]\n",
      "sklearn pred mse: [[ 0.37992832]]\n",
      "sm glm pred mse: [[ 0.40501792]]\n",
      "sklearn rfclf mse: [[ 0.38351254]]\n",
      "sklearn gboostclf mse: [[ 0.390681]]\n",
      "sklearn xtree mse: [[ 0.37634409]]\n"
     ]
    }
   ],
   "source": [
    "Y_test_mat = np.matrix(Y_test.values)\n",
    "naive_pred_0 = np.matrix(np.repeat(0.0,len(Y_test.values)))\n",
    "naive_pred_1 = np.matrix(np.repeat(1.0,len(Y_test.values)))\n",
    "\n",
    "print 'naive 0:', mean_square_error(Y_test_mat,naive_pred_0)\n",
    "print 'naive 1:', mean_square_error(Y_test_mat,naive_pred_1)\n",
    "print 'sklearn pred mse:', mean_square_error(Y_test_mat,np.matrix(logr.predict(X_test)))\n",
    "print 'sm glm pred mse:', mean_square_error(Y_test_mat,np.matrix(labels(fitted_glm_binom.predict(X_test))))\n",
    "print 'sklearn rfclf mse:', mean_square_error(Y_test_mat,np.matrix(fitted_forest.predict(X_test)))\n",
    "print 'sklearn gboostclf mse:', mean_square_error(Y_test_mat,np.matrix(fitted_gboost.predict(X_test)))\n",
    "print 'sklearn xtree mse:', mean_square_error(Y_test_mat,np.matrix(fitted_xtree.predict(X_test)))\n"
   ]
  },
  {
   "cell_type": "code",
   "execution_count": null,
   "metadata": {
    "collapsed": true
   },
   "outputs": [],
   "source": []
  },
  {
   "cell_type": "code",
   "execution_count": null,
   "metadata": {
    "collapsed": true
   },
   "outputs": [],
   "source": []
  },
  {
   "cell_type": "code",
   "execution_count": null,
   "metadata": {
    "collapsed": true
   },
   "outputs": [],
   "source": []
  },
  {
   "cell_type": "code",
   "execution_count": null,
   "metadata": {
    "collapsed": true
   },
   "outputs": [],
   "source": []
  },
  {
   "cell_type": "markdown",
   "metadata": {},
   "source": [
    "# Old Code"
   ]
  },
  {
   "cell_type": "code",
   "execution_count": null,
   "metadata": {
    "collapsed": true
   },
   "outputs": [],
   "source": [
    "#df = get_tweets('HillaryClinton')\n",
    "#plt.plot(df[\"retweet_count\"],'r')\n",
    "#plt.show()\n",
    "\n",
    "#username = 'HillaryClinton'\n",
    "#print api.friends_ids(screen_name = username)\n",
    "#friends = api.friends_ids(screen_name = username)\n",
    "#print len(friends)\n",
    "\n",
    "#superfriends = get_superfriends(username)\n",
    "#print len(superfriends)\n",
    "\n",
    "#friend = 75187482\n",
    "#print api.show_friendship(source_screen_name=username,target_id=friend)[0].followed_by\n",
    "#print api.friends_ids(user_id = friend)\n",
    "#print api.followers_ids(user_id = friend)\n",
    "\n",
    "#print api.user_timeline(screen_name=username,count=1)[0].id\n",
    "#print 'abc'.decode('utf-8')  #string to unicode\n",
    "#print u'abc'.encode('utf-8') #unicode to string\n",
    "#df = get_tweets('HillaryClinton')\n",
    "#friends = api.friends_ids(screen_name = username) #list of ids being followed by username\n",
    "#api.rate_limit_status()\n",
    "#df\n",
    "\n",
    "\n",
    "\n",
    "# Build Database\n",
    "\n",
    "\n",
    "#api.get_user(screen_name='HillaryClinton').id\n",
    "#api.get_user(user_id=1339835893).screen_name\n",
    "#api.get_user(user_id=1339835893).screen_name.encode(\"utf-8\")\n",
    "\n",
    "\n",
    "\n",
    "#n = math.trunc(math.ceil(len(friends)/180.0))\n",
    "\n",
    "#for friend in friends[0:100]:\n",
    " #   print friend\n",
    " #   #username = api.get_user(user_id=friend).screen_name.encode(\"utf-8\")\n",
    " #   user = api.get_user(user_id=friend)\n",
    " #   if not user.protected\n",
    " #   df = df.append(get_tweets_by_id(friend))\n",
    "    \n",
    "\n",
    "#for i in range(0, n):\n",
    " #   for friend in friends[(180*i):(180*(i+1))]:\n",
    "  #      username = api.get_user(user_id=friend).screen_name.encode(\"utf-8\")\n",
    "   #     df = df.append(get_tweets(username))\n",
    "    #time.sleep((60*15) + 1)\n",
    "\n",
    "#for friend in friends:\n",
    " #   username = api.get_user(user_id=friend).screen_name.encode(\"utf-8\")\n",
    "  #  df = df.append(get_tweets(username))\n",
    "\n",
    "\n",
    "\n",
    "#friend = 75187482\n",
    "#print api.get_user(user_id=friend).screen_name.encode(\"utf-8\")\n",
    "#print api.get_user(user_id=friend).protected\n",
    "#get_tweets( api.get_user(user_id=friend).screen_name.encode(\"utf-8\") )"
   ]
  },
  {
   "cell_type": "code",
   "execution_count": 345,
   "metadata": {
    "collapsed": false,
    "scrolled": true
   },
   "outputs": [
    {
     "data": {
      "text/plain": [
       "LinearRegression(copy_X=True, fit_intercept=True, n_jobs=1, normalize=False)"
      ]
     },
     "execution_count": 345,
     "metadata": {},
     "output_type": "execute_result"
    }
   ],
   "source": [
    "#fit linear regression\n",
    "from sklearn.linear_model import LinearRegression as LR\n",
    "linr = LR()\n",
    "linr.fit( X_train, Y_train )"
   ]
  },
  {
   "cell_type": "code",
   "execution_count": 346,
   "metadata": {
    "collapsed": false,
    "scrolled": false
   },
   "outputs": [
    {
     "name": "stdout",
     "output_type": "stream",
     "text": [
      "sum of difference of squares = sum (Y_pred - Y_true)^2 : \n",
      "0.0212070870156\n",
      "R^2 : \n",
      "-0.260262831829\n"
     ]
    }
   ],
   "source": [
    "pred=linr.predict(X_test)\n",
    "diff_of_squares = (pred - Y_test)**2\n",
    "print \"sum of difference of squares = sum (Y_pred - Y_true)^2 : \"\n",
    "print diff_of_squares.sum()\n",
    "print \"R^2 : \"\n",
    "print linr.score(X_test,Y_test)"
   ]
  },
  {
   "cell_type": "code",
   "execution_count": 347,
   "metadata": {
    "collapsed": false
   },
   "outputs": [
    {
     "ename": "ValueError",
     "evalue": "sequence too large; cannot be greater than 32",
     "output_type": "error",
     "traceback": [
      "\u001b[1;31m---------------------------------------------------------------------------\u001b[0m",
      "\u001b[1;31mValueError\u001b[0m                                Traceback (most recent call last)",
      "\u001b[1;32m<ipython-input-347-4d7c599af2e8>\u001b[0m in \u001b[0;36m<module>\u001b[1;34m()\u001b[0m\n\u001b[1;32m----> 1\u001b[1;33m \u001b[0mfig\u001b[0m\u001b[1;33m,\u001b[0m \u001b[0max\u001b[0m \u001b[1;33m=\u001b[0m \u001b[0mplt\u001b[0m\u001b[1;33m.\u001b[0m\u001b[0msubplots\u001b[0m\u001b[1;33m(\u001b[0m\u001b[0mY_test\u001b[0m\u001b[1;33m,\u001b[0m\u001b[0mpred\u001b[0m\u001b[1;33m)\u001b[0m\u001b[1;33m\u001b[0m\u001b[0m\n\u001b[0m",
      "\u001b[1;32mC:\\Anaconda2\\Lib\\site-packages\\matplotlib\\pyplot.pyc\u001b[0m in \u001b[0;36msubplots\u001b[1;34m(nrows, ncols, sharex, sharey, squeeze, subplot_kw, gridspec_kw, **fig_kw)\u001b[0m\n\u001b[0;32m   1181\u001b[0m     \u001b[1;31m# so we can just append subplots upon creation, and then\u001b[0m\u001b[1;33m\u001b[0m\u001b[1;33m\u001b[0m\u001b[0m\n\u001b[0;32m   1182\u001b[0m     \u001b[0mnplots\u001b[0m \u001b[1;33m=\u001b[0m \u001b[0mnrows\u001b[0m\u001b[1;33m*\u001b[0m\u001b[0mncols\u001b[0m\u001b[1;33m\u001b[0m\u001b[0m\n\u001b[1;32m-> 1183\u001b[1;33m     \u001b[0maxarr\u001b[0m \u001b[1;33m=\u001b[0m \u001b[0mnp\u001b[0m\u001b[1;33m.\u001b[0m\u001b[0mempty\u001b[0m\u001b[1;33m(\u001b[0m\u001b[0mnplots\u001b[0m\u001b[1;33m,\u001b[0m \u001b[0mdtype\u001b[0m\u001b[1;33m=\u001b[0m\u001b[0mobject\u001b[0m\u001b[1;33m)\u001b[0m\u001b[1;33m\u001b[0m\u001b[0m\n\u001b[0m\u001b[0;32m   1184\u001b[0m \u001b[1;33m\u001b[0m\u001b[0m\n\u001b[0;32m   1185\u001b[0m     \u001b[1;31m# Create first subplot separately, so we can share it if requested\u001b[0m\u001b[1;33m\u001b[0m\u001b[1;33m\u001b[0m\u001b[0m\n",
      "\u001b[1;31mValueError\u001b[0m: sequence too large; cannot be greater than 32"
     ]
    },
    {
     "data": {
      "text/plain": [
       "<matplotlib.figure.Figure at 0x13e2a198>"
      ]
     },
     "metadata": {},
     "output_type": "display_data"
    }
   ],
   "source": [
    "fig, ax = plt.subplots(Y_test,pred)"
   ]
  },
  {
   "cell_type": "code",
   "execution_count": 350,
   "metadata": {
    "collapsed": false,
    "scrolled": true
   },
   "outputs": [
    {
     "name": "stdout",
     "output_type": "stream",
     "text": [
      "<class 'pandas.core.series.Series'>\n",
      "<type 'numpy.ndarray'>\n"
     ]
    },
    {
     "data": {
      "image/png": "[encoded data removed]",
      "text/plain": [
       "<matplotlib.figure.Figure at 0x13f6d7f0>"
      ]
     },
     "metadata": {},
     "output_type": "display_data"
    }
   ],
   "source": [
    "log_Y_test = Y_test.copy()\n",
    "log_pred = pred.copy()\n",
    "for i in Y_test.index:\n",
    "    log_Y_test[i] = math.log(Y_test[i] + 0.1)\n",
    "for i in range(0,len(log_pred)):\n",
    "    log_pred[i] = math.log(pred[i] + 0.1)\n",
    "    \n",
    "print type(log_Y_test)\n",
    "print type(log_pred)\n",
    "\n",
    "fig, ax = plt.subplots()\n",
    "ax.scatter(Y_test,pred)\n",
    "ax.plot([Y_test.min(), Y_test.max()], [Y_test.min(), Y_test.max()], 'k--', lw=4)\n",
    "ax.set_xlabel('Observed')\n",
    "ax.set_ylabel('Predicted')\n",
    "plt.show()"
   ]
  },
  {
   "cell_type": "code",
   "execution_count": 354,
   "metadata": {
    "collapsed": false
   },
   "outputs": [
    {
     "data": {
      "text/plain": [
       "number_of_stems    0.000033\n",
       "prop all           0.013219\n",
       "prop help          0.007474\n",
       "prop just          0.007117\n",
       "prop ``            0.011252\n",
       "prop go            0.006431\n",
       "prop hillari       0.009413\n",
       "prop republican    0.010356\n",
       "prop thank         0.011898\n",
       "prop -h            0.015034\n",
       "prop should        0.007149\n",
       "prop to            0.006609\n",
       "prop win           0.007774\n",
       "prop has           0.005593\n",
       "prop ...           0.011917\n",
       "prop his           0.006113\n",
       "prop everi         0.012138\n",
       "prop get           0.010846\n",
       "prop they          0.012536\n",
       "prop not           0.007961\n",
       "prop amp           0.011557\n",
       "prop now           0.009107\n",
       "prop day           0.008924\n",
       "prop like          0.008298\n",
       "prop gun           0.016656\n",
       "prop right         0.006141\n",
       "prop nmsen         0.015165\n",
       "prop donald        0.010800\n",
       "prop are           0.004771\n",
       "prop year          0.008273\n",
       "                     ...   \n",
       "prop and           0.007662\n",
       "prop want          0.006922\n",
       "prop do            0.006195\n",
       "prop is            0.008285\n",
       "prop it            0.004220\n",
       "prop an            0.009375\n",
       "prop ''            0.010486\n",
       "prop say           0.011470\n",
       "prop at            0.004498\n",
       "prop have          0.011046\n",
       "prop in            0.015359\n",
       "prop need          0.004866\n",
       "prop as            0.066146\n",
       "prop if            0.009987\n",
       "prop !             0.001725\n",
       "prop nm            0.016937\n",
       "prop no            0.008166\n",
       "prop make          0.004962\n",
       "prop when          0.007373\n",
       "prop you           0.013782\n",
       "prop http          0.010218\n",
       "prop our           0.003546\n",
       "prop who           0.006769\n",
       "prop what          0.006912\n",
       "prop plan          0.007583\n",
       "prop america       0.007435\n",
       "prop a             0.002240\n",
       "prop i             0.009052\n",
       "prop time          0.010469\n",
       "prop the           0.004598\n",
       "dtype: float64"
      ]
     },
     "execution_count": 354,
     "metadata": {},
     "output_type": "execute_result"
    }
   ],
   "source": [
    "import statsmodels.api as sm\n",
    "ols = sm.OLS(Y_train, X_train)\n",
    "ols_result = ols.fit()\n",
    "# Now you have at your disposition several error estimates, e.g.\n",
    "ols_result.HC0_se\n",
    "## and covariance estimates\n",
    "#ols_result.cov_HC0"
   ]
  },
  {
   "cell_type": "code",
   "execution_count": 356,
   "metadata": {
    "collapsed": false
   },
   "outputs": [
    {
     "ename": "UnicodeDecodeError",
     "evalue": "'ascii' codec can't decode byte 0xe2 in position 9277: ordinal not in range(128)",
     "output_type": "error",
     "traceback": [
      "\u001b[1;31m---------------------------------------------------------------------------\u001b[0m",
      "\u001b[1;31mUnicodeDecodeError\u001b[0m                        Traceback (most recent call last)",
      "\u001b[1;32m<ipython-input-356-b76758954134>\u001b[0m in \u001b[0;36m<module>\u001b[1;34m()\u001b[0m\n\u001b[1;32m----> 1\u001b[1;33m \u001b[0mols_result\u001b[0m\u001b[1;33m.\u001b[0m\u001b[0msummary\u001b[0m\u001b[1;33m(\u001b[0m\u001b[1;33m)\u001b[0m\u001b[1;33m\u001b[0m\u001b[0m\n\u001b[0m",
      "\u001b[1;32mC:\\Anaconda2\\Lib\\site-packages\\IPython\\core\\displayhook.pyc\u001b[0m in \u001b[0;36m__call__\u001b[1;34m(self, result)\u001b[0m\n\u001b[0;32m    250\u001b[0m                 \u001b[0mself\u001b[0m\u001b[1;33m.\u001b[0m\u001b[0mwrite_format_data\u001b[0m\u001b[1;33m(\u001b[0m\u001b[0mformat_dict\u001b[0m\u001b[1;33m,\u001b[0m \u001b[0mmd_dict\u001b[0m\u001b[1;33m)\u001b[0m\u001b[1;33m\u001b[0m\u001b[0m\n\u001b[0;32m    251\u001b[0m                 \u001b[0mself\u001b[0m\u001b[1;33m.\u001b[0m\u001b[0mlog_output\u001b[0m\u001b[1;33m(\u001b[0m\u001b[0mformat_dict\u001b[0m\u001b[1;33m)\u001b[0m\u001b[1;33m\u001b[0m\u001b[0m\n\u001b[1;32m--> 252\u001b[1;33m             \u001b[0mself\u001b[0m\u001b[1;33m.\u001b[0m\u001b[0mfinish_displayhook\u001b[0m\u001b[1;33m(\u001b[0m\u001b[1;33m)\u001b[0m\u001b[1;33m\u001b[0m\u001b[0m\n\u001b[0m\u001b[0;32m    253\u001b[0m \u001b[1;33m\u001b[0m\u001b[0m\n\u001b[0;32m    254\u001b[0m     \u001b[1;32mdef\u001b[0m \u001b[0mcull_cache\u001b[0m\u001b[1;33m(\u001b[0m\u001b[0mself\u001b[0m\u001b[1;33m)\u001b[0m\u001b[1;33m:\u001b[0m\u001b[1;33m\u001b[0m\u001b[0m\n",
      "\u001b[1;32mC:\\Anaconda2\\Lib\\site-packages\\ipykernel\\displayhook.pyc\u001b[0m in \u001b[0;36mfinish_displayhook\u001b[1;34m(self)\u001b[0m\n\u001b[0;32m     69\u001b[0m         \u001b[0msys\u001b[0m\u001b[1;33m.\u001b[0m\u001b[0mstderr\u001b[0m\u001b[1;33m.\u001b[0m\u001b[0mflush\u001b[0m\u001b[1;33m(\u001b[0m\u001b[1;33m)\u001b[0m\u001b[1;33m\u001b[0m\u001b[0m\n\u001b[0;32m     70\u001b[0m         \u001b[1;32mif\u001b[0m \u001b[0mself\u001b[0m\u001b[1;33m.\u001b[0m\u001b[0mmsg\u001b[0m\u001b[1;33m[\u001b[0m\u001b[1;34m'content'\u001b[0m\u001b[1;33m]\u001b[0m\u001b[1;33m[\u001b[0m\u001b[1;34m'data'\u001b[0m\u001b[1;33m]\u001b[0m\u001b[1;33m:\u001b[0m\u001b[1;33m\u001b[0m\u001b[0m\n\u001b[1;32m---> 71\u001b[1;33m             \u001b[0mself\u001b[0m\u001b[1;33m.\u001b[0m\u001b[0msession\u001b[0m\u001b[1;33m.\u001b[0m\u001b[0msend\u001b[0m\u001b[1;33m(\u001b[0m\u001b[0mself\u001b[0m\u001b[1;33m.\u001b[0m\u001b[0mpub_socket\u001b[0m\u001b[1;33m,\u001b[0m \u001b[0mself\u001b[0m\u001b[1;33m.\u001b[0m\u001b[0mmsg\u001b[0m\u001b[1;33m,\u001b[0m \u001b[0mident\u001b[0m\u001b[1;33m=\u001b[0m\u001b[0mself\u001b[0m\u001b[1;33m.\u001b[0m\u001b[0mtopic\u001b[0m\u001b[1;33m)\u001b[0m\u001b[1;33m\u001b[0m\u001b[0m\n\u001b[0m\u001b[0;32m     72\u001b[0m         \u001b[0mself\u001b[0m\u001b[1;33m.\u001b[0m\u001b[0mmsg\u001b[0m \u001b[1;33m=\u001b[0m \u001b[0mNone\u001b[0m\u001b[1;33m\u001b[0m\u001b[0m\n",
      "\u001b[1;32mC:\\Anaconda2\\Lib\\site-packages\\jupyter_client\\session.pyc\u001b[0m in \u001b[0;36msend\u001b[1;34m(self, stream, msg_or_type, content, parent, ident, buffers, track, header, metadata)\u001b[0m\n\u001b[0;32m    663\u001b[0m         \u001b[1;32mif\u001b[0m \u001b[0mself\u001b[0m\u001b[1;33m.\u001b[0m\u001b[0madapt_version\u001b[0m\u001b[1;33m:\u001b[0m\u001b[1;33m\u001b[0m\u001b[0m\n\u001b[0;32m    664\u001b[0m             \u001b[0mmsg\u001b[0m \u001b[1;33m=\u001b[0m \u001b[0madapt\u001b[0m\u001b[1;33m(\u001b[0m\u001b[0mmsg\u001b[0m\u001b[1;33m,\u001b[0m \u001b[0mself\u001b[0m\u001b[1;33m.\u001b[0m\u001b[0madapt_version\u001b[0m\u001b[1;33m)\u001b[0m\u001b[1;33m\u001b[0m\u001b[0m\n\u001b[1;32m--> 665\u001b[1;33m         \u001b[0mto_send\u001b[0m \u001b[1;33m=\u001b[0m \u001b[0mself\u001b[0m\u001b[1;33m.\u001b[0m\u001b[0mserialize\u001b[0m\u001b[1;33m(\u001b[0m\u001b[0mmsg\u001b[0m\u001b[1;33m,\u001b[0m \u001b[0mident\u001b[0m\u001b[1;33m)\u001b[0m\u001b[1;33m\u001b[0m\u001b[0m\n\u001b[0m\u001b[0;32m    666\u001b[0m         \u001b[0mto_send\u001b[0m\u001b[1;33m.\u001b[0m\u001b[0mextend\u001b[0m\u001b[1;33m(\u001b[0m\u001b[0mbuffers\u001b[0m\u001b[1;33m)\u001b[0m\u001b[1;33m\u001b[0m\u001b[0m\n\u001b[0;32m    667\u001b[0m         \u001b[0mlongest\u001b[0m \u001b[1;33m=\u001b[0m \u001b[0mmax\u001b[0m\u001b[1;33m(\u001b[0m\u001b[1;33m[\u001b[0m \u001b[0mlen\u001b[0m\u001b[1;33m(\u001b[0m\u001b[0ms\u001b[0m\u001b[1;33m)\u001b[0m \u001b[1;32mfor\u001b[0m \u001b[0ms\u001b[0m \u001b[1;32min\u001b[0m \u001b[0mto_send\u001b[0m \u001b[1;33m]\u001b[0m\u001b[1;33m)\u001b[0m\u001b[1;33m\u001b[0m\u001b[0m\n",
      "\u001b[1;32mC:\\Anaconda2\\Lib\\site-packages\\jupyter_client\\session.pyc\u001b[0m in \u001b[0;36mserialize\u001b[1;34m(self, msg, ident)\u001b[0m\n\u001b[0;32m    566\u001b[0m             \u001b[0mcontent\u001b[0m \u001b[1;33m=\u001b[0m \u001b[0mself\u001b[0m\u001b[1;33m.\u001b[0m\u001b[0mnone\u001b[0m\u001b[1;33m\u001b[0m\u001b[0m\n\u001b[0;32m    567\u001b[0m         \u001b[1;32melif\u001b[0m \u001b[0misinstance\u001b[0m\u001b[1;33m(\u001b[0m\u001b[0mcontent\u001b[0m\u001b[1;33m,\u001b[0m \u001b[0mdict\u001b[0m\u001b[1;33m)\u001b[0m\u001b[1;33m:\u001b[0m\u001b[1;33m\u001b[0m\u001b[0m\n\u001b[1;32m--> 568\u001b[1;33m             \u001b[0mcontent\u001b[0m \u001b[1;33m=\u001b[0m \u001b[0mself\u001b[0m\u001b[1;33m.\u001b[0m\u001b[0mpack\u001b[0m\u001b[1;33m(\u001b[0m\u001b[0mcontent\u001b[0m\u001b[1;33m)\u001b[0m\u001b[1;33m\u001b[0m\u001b[0m\n\u001b[0m\u001b[0;32m    569\u001b[0m         \u001b[1;32melif\u001b[0m \u001b[0misinstance\u001b[0m\u001b[1;33m(\u001b[0m\u001b[0mcontent\u001b[0m\u001b[1;33m,\u001b[0m \u001b[0mbytes\u001b[0m\u001b[1;33m)\u001b[0m\u001b[1;33m:\u001b[0m\u001b[1;33m\u001b[0m\u001b[0m\n\u001b[0;32m    570\u001b[0m             \u001b[1;31m# content is already packed, as in a relayed message\u001b[0m\u001b[1;33m\u001b[0m\u001b[1;33m\u001b[0m\u001b[0m\n",
      "\u001b[1;32mC:\\Anaconda2\\Lib\\site-packages\\jupyter_client\\session.pyc\u001b[0m in \u001b[0;36m<lambda>\u001b[1;34m(obj)\u001b[0m\n\u001b[0;32m     93\u001b[0m \u001b[1;31m# disallow nan, because it's not actually valid JSON\u001b[0m\u001b[1;33m\u001b[0m\u001b[1;33m\u001b[0m\u001b[0m\n\u001b[0;32m     94\u001b[0m json_packer = lambda obj: jsonapi.dumps(obj, default=date_default,\n\u001b[1;32m---> 95\u001b[1;33m     \u001b[0mensure_ascii\u001b[0m\u001b[1;33m=\u001b[0m\u001b[0mFalse\u001b[0m\u001b[1;33m,\u001b[0m \u001b[0mallow_nan\u001b[0m\u001b[1;33m=\u001b[0m\u001b[0mFalse\u001b[0m\u001b[1;33m,\u001b[0m\u001b[1;33m\u001b[0m\u001b[0m\n\u001b[0m\u001b[0;32m     96\u001b[0m )\n\u001b[0;32m     97\u001b[0m \u001b[0mjson_unpacker\u001b[0m \u001b[1;33m=\u001b[0m \u001b[1;32mlambda\u001b[0m \u001b[0ms\u001b[0m\u001b[1;33m:\u001b[0m \u001b[0mjsonapi\u001b[0m\u001b[1;33m.\u001b[0m\u001b[0mloads\u001b[0m\u001b[1;33m(\u001b[0m\u001b[0ms\u001b[0m\u001b[1;33m)\u001b[0m\u001b[1;33m\u001b[0m\u001b[0m\n",
      "\u001b[1;32mC:\\Anaconda2\\Lib\\site-packages\\zmq\\utils\\jsonapi.pyc\u001b[0m in \u001b[0;36mdumps\u001b[1;34m(o, **kwargs)\u001b[0m\n\u001b[0;32m     38\u001b[0m         \u001b[0mkwargs\u001b[0m\u001b[1;33m[\u001b[0m\u001b[1;34m'separators'\u001b[0m\u001b[1;33m]\u001b[0m \u001b[1;33m=\u001b[0m \u001b[1;33m(\u001b[0m\u001b[1;34m','\u001b[0m\u001b[1;33m,\u001b[0m \u001b[1;34m':'\u001b[0m\u001b[1;33m)\u001b[0m\u001b[1;33m\u001b[0m\u001b[0m\n\u001b[0;32m     39\u001b[0m \u001b[1;33m\u001b[0m\u001b[0m\n\u001b[1;32m---> 40\u001b[1;33m     \u001b[0ms\u001b[0m \u001b[1;33m=\u001b[0m \u001b[0mjsonmod\u001b[0m\u001b[1;33m.\u001b[0m\u001b[0mdumps\u001b[0m\u001b[1;33m(\u001b[0m\u001b[0mo\u001b[0m\u001b[1;33m,\u001b[0m \u001b[1;33m**\u001b[0m\u001b[0mkwargs\u001b[0m\u001b[1;33m)\u001b[0m\u001b[1;33m\u001b[0m\u001b[0m\n\u001b[0m\u001b[0;32m     41\u001b[0m \u001b[1;33m\u001b[0m\u001b[0m\n\u001b[0;32m     42\u001b[0m     \u001b[1;32mif\u001b[0m \u001b[0misinstance\u001b[0m\u001b[1;33m(\u001b[0m\u001b[0ms\u001b[0m\u001b[1;33m,\u001b[0m \u001b[0municode\u001b[0m\u001b[1;33m)\u001b[0m\u001b[1;33m:\u001b[0m\u001b[1;33m\u001b[0m\u001b[0m\n",
      "\u001b[1;32mC:\\Anaconda2\\lib\\json\\__init__.pyc\u001b[0m in \u001b[0;36mdumps\u001b[1;34m(obj, skipkeys, ensure_ascii, check_circular, allow_nan, cls, indent, separators, encoding, default, sort_keys, **kw)\u001b[0m\n\u001b[0;32m    249\u001b[0m         \u001b[0mcheck_circular\u001b[0m\u001b[1;33m=\u001b[0m\u001b[0mcheck_circular\u001b[0m\u001b[1;33m,\u001b[0m \u001b[0mallow_nan\u001b[0m\u001b[1;33m=\u001b[0m\u001b[0mallow_nan\u001b[0m\u001b[1;33m,\u001b[0m \u001b[0mindent\u001b[0m\u001b[1;33m=\u001b[0m\u001b[0mindent\u001b[0m\u001b[1;33m,\u001b[0m\u001b[1;33m\u001b[0m\u001b[0m\n\u001b[0;32m    250\u001b[0m         \u001b[0mseparators\u001b[0m\u001b[1;33m=\u001b[0m\u001b[0mseparators\u001b[0m\u001b[1;33m,\u001b[0m \u001b[0mencoding\u001b[0m\u001b[1;33m=\u001b[0m\u001b[0mencoding\u001b[0m\u001b[1;33m,\u001b[0m \u001b[0mdefault\u001b[0m\u001b[1;33m=\u001b[0m\u001b[0mdefault\u001b[0m\u001b[1;33m,\u001b[0m\u001b[1;33m\u001b[0m\u001b[0m\n\u001b[1;32m--> 251\u001b[1;33m         sort_keys=sort_keys, **kw).encode(obj)\n\u001b[0m\u001b[0;32m    252\u001b[0m \u001b[1;33m\u001b[0m\u001b[0m\n\u001b[0;32m    253\u001b[0m \u001b[1;33m\u001b[0m\u001b[0m\n",
      "\u001b[1;32mC:\\Anaconda2\\lib\\json\\encoder.pyc\u001b[0m in \u001b[0;36mencode\u001b[1;34m(self, o)\u001b[0m\n\u001b[0;32m    208\u001b[0m         \u001b[1;32mif\u001b[0m \u001b[1;32mnot\u001b[0m \u001b[0misinstance\u001b[0m\u001b[1;33m(\u001b[0m\u001b[0mchunks\u001b[0m\u001b[1;33m,\u001b[0m \u001b[1;33m(\u001b[0m\u001b[0mlist\u001b[0m\u001b[1;33m,\u001b[0m \u001b[0mtuple\u001b[0m\u001b[1;33m)\u001b[0m\u001b[1;33m)\u001b[0m\u001b[1;33m:\u001b[0m\u001b[1;33m\u001b[0m\u001b[0m\n\u001b[0;32m    209\u001b[0m             \u001b[0mchunks\u001b[0m \u001b[1;33m=\u001b[0m \u001b[0mlist\u001b[0m\u001b[1;33m(\u001b[0m\u001b[0mchunks\u001b[0m\u001b[1;33m)\u001b[0m\u001b[1;33m\u001b[0m\u001b[0m\n\u001b[1;32m--> 210\u001b[1;33m         \u001b[1;32mreturn\u001b[0m \u001b[1;34m''\u001b[0m\u001b[1;33m.\u001b[0m\u001b[0mjoin\u001b[0m\u001b[1;33m(\u001b[0m\u001b[0mchunks\u001b[0m\u001b[1;33m)\u001b[0m\u001b[1;33m\u001b[0m\u001b[0m\n\u001b[0m\u001b[0;32m    211\u001b[0m \u001b[1;33m\u001b[0m\u001b[0m\n\u001b[0;32m    212\u001b[0m     \u001b[1;32mdef\u001b[0m \u001b[0miterencode\u001b[0m\u001b[1;33m(\u001b[0m\u001b[0mself\u001b[0m\u001b[1;33m,\u001b[0m \u001b[0mo\u001b[0m\u001b[1;33m,\u001b[0m \u001b[0m_one_shot\u001b[0m\u001b[1;33m=\u001b[0m\u001b[0mFalse\u001b[0m\u001b[1;33m)\u001b[0m\u001b[1;33m:\u001b[0m\u001b[1;33m\u001b[0m\u001b[0m\n",
      "\u001b[1;31mUnicodeDecodeError\u001b[0m: 'ascii' codec can't decode byte 0xe2 in position 9277: ordinal not in range(128)"
     ]
    }
   ],
   "source": [
    "ols_result.summary()"
   ]
  }
 ],
 "metadata": {
  "kernelspec": {
   "display_name": "Python 2",
   "language": "python",
   "name": "python2"
  },
  "language_info": {
   "codemirror_mode": {
    "name": "ipython",
    "version": 2
   },
   "file_extension": ".py",
   "mimetype": "text/x-python",
   "name": "python",
   "nbconvert_exporter": "python",
   "pygments_lexer": "ipython2",
   "version": "2.7.11"
  }
 },
 "nbformat": 4,
 "nbformat_minor": 0
}
